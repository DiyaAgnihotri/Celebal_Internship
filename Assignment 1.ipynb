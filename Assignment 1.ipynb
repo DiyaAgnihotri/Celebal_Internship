{
 "cells": [
  {
   "cell_type": "code",
   "execution_count": 4,
   "id": "00b1f2e5",
   "metadata": {},
   "outputs": [
    {
     "name": "stdout",
     "output_type": "stream",
     "text": [
      "Enter the number of rows: 5\n",
      "Lower Triangular Pattern:\n",
      "*\n",
      "**\n",
      "***\n",
      "****\n",
      "*****\n",
      "\n",
      "Upper Triangular Pattern:\n",
      "*****\n",
      " ****\n",
      "  ***\n",
      "   **\n",
      "    *\n",
      "\n",
      "Pyramid Pattern:\n",
      "    *\n",
      "   ***\n",
      "  *****\n",
      " *******\n",
      "*********\n"
     ]
    }
   ],
   "source": [
    "def lower_triangular(n):\n",
    "    print(\"Lower Triangular Pattern:\")\n",
    "    for i in range(n):\n",
    "        print(\"*\" * (i + 1))\n",
    "\n",
    "def upper_triangular(n):\n",
    "    print(\"\\nUpper Triangular Pattern:\")\n",
    "    for i in range(n):\n",
    "        print(\" \" * i + \"*\" * (n - i))\n",
    "\n",
    "def pyramid(n):\n",
    "    print(\"\\nPyramid Pattern:\")\n",
    "    for i in range(n):\n",
    "        print(\" \" * (n - i - 1) + \"*\" * (2 * i + 1))\n",
    "\n",
    "try:\n",
    "    rows = int(input(\"Enter the number of rows: \"))\n",
    "    if rows <= 0:\n",
    "        print(\"Please enter a positive number of rows.\")\n",
    "    else:\n",
    "        # Call functions\n",
    "        lower_triangular(rows)\n",
    "        upper_triangular(rows)\n",
    "        pyramid(rows)\n",
    "except ValueError:\n",
    "    print(\"Please enter a valid integer.\")"
   ]
  }
 ],
 "metadata": {
  "kernelspec": {
   "display_name": "Python 3 (ipykernel)",
   "language": "python",
   "name": "python3"
  },
  "language_info": {
   "codemirror_mode": {
    "name": "ipython",
    "version": 3
   },
   "file_extension": ".py",
   "mimetype": "text/x-python",
   "name": "python",
   "nbconvert_exporter": "python",
   "pygments_lexer": "ipython3",
   "version": "3.11.5"
  }
 },
 "nbformat": 4,
 "nbformat_minor": 5
}
